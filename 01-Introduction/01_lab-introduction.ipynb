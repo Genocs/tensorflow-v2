{
 "metadata": {
  "language_info": {
   "codemirror_mode": {
    "name": "ipython",
    "version": 3
   },
   "file_extension": ".py",
   "mimetype": "text/x-python",
   "name": "python",
   "nbconvert_exporter": "python",
   "pygments_lexer": "ipython3",
   "version": "3.7.9"
  },
  "orig_nbformat": 2,
  "kernelspec": {
   "name": "python3",
   "display_name": "Python 3.7.9 64-bit ('tensorflow24': conda)",
   "metadata": {
    "interpreter": {
     "hash": "f0795c234bde78accebdbed0248ff29fe0629f44ce509e2c331ab9822760ee1f"
    }
   }
  }
 },
 "nbformat": 4,
 "nbformat_minor": 2,
 "cells": [
  {
   "cell_type": "code",
   "execution_count": 1,
   "metadata": {},
   "outputs": [
    {
     "output_type": "stream",
     "name": "stdout",
     "text": [
      "Tensorflow version: 2.4.1\n"
     ]
    }
   ],
   "source": [
    "# Import TensorFlow\n",
    "import tensorflow as tf\n",
    "\n",
    "# Import numpy\n",
    "import numpy as np\n",
    "\n",
    "\n",
    "try:\n",
    "    %tensorflow_version 2.2 #colab only\n",
    "except Exception:\n",
    "    pass\n",
    "\n",
    "# Check the Tensorflow version\n",
    "print('Tensorflow version: %s' % tf.__version__)\n"
   ]
  },
  {
   "cell_type": "code",
   "execution_count": 4,
   "metadata": {
    "tags": []
   },
   "outputs": [
    {
     "output_type": "stream",
     "name": "stdout",
     "text": [
      "Num GPUs Available: 1\n"
     ]
    }
   ],
   "source": [
    "# Check the GPU device availability\n",
    "print('Num GPUs Available: %d' %len(tf.config.experimental.list_physical_devices('GPU')))"
   ]
  },
  {
   "cell_type": "code",
   "execution_count": 5,
   "metadata": {
    "tags": []
   },
   "outputs": [
    {
     "output_type": "stream",
     "name": "stdout",
     "text": [
      "tf.Tensor([1. 2. 3. 4. 5. 6.], shape=(6,), dtype=float32)\n"
     ]
    }
   ],
   "source": [
    "# Create a tensor as a vector (one dimension)\n",
    "vector_a = tf.constant([1.0, 2.0, 3.0, 4.0, 5.0, 6.0])\n",
    "print(vector_a)"
   ]
  },
  {
   "cell_type": "code",
   "execution_count": 6,
   "metadata": {
    "tags": []
   },
   "outputs": [
    {
     "output_type": "stream",
     "name": "stdout",
     "text": [
      "tf.Tensor(\n[[1. 2.]\n [3. 4.]\n [5. 6.]], shape=(3, 2), dtype=float32)\n"
     ]
    }
   ],
   "source": [
    "# Create a tensor as a matrix (two dimensions) layout: 3x2\n",
    "matrix_b = tf.constant([[1.0, 2.0], [3.0, 4.0], [5.0, 6.0]])\n",
    "print(matrix_b)"
   ]
  },
  {
   "cell_type": "code",
   "execution_count": 7,
   "metadata": {
    "tags": []
   },
   "outputs": [
    {
     "output_type": "stream",
     "name": "stdout",
     "text": [
      "tf.Tensor(\n[[ 9. 12. 15.]\n [19. 26. 33.]\n [29. 40. 51.]], shape=(3, 3), dtype=float32)\n"
     ]
    }
   ],
   "source": [
    "# Create two matrices\n",
    "m_a = tf.constant([[1.0, 2.0, 3.0], [4.0, 5.0, 6.0]])\n",
    "m_b = tf.constant([[1.0, 2.0], [3.0, 4.0], [5.0, 6.0]])\n",
    "\n",
    "# Matrix multiply (m_b * m_a)\n",
    "m_ba = tf.matmul(m_b, m_a)\n",
    "print(m_ba)"
   ]
  },
  {
   "cell_type": "code",
   "execution_count": 11,
   "metadata": {
    "tags": []
   },
   "outputs": [
    {
     "output_type": "stream",
     "name": "stdout",
     "text": [
      "tf.Tensor(\n[[22. 28.]\n [49. 64.]], shape=(2, 2), dtype=float32)\n"
     ]
    },
    {
     "output_type": "execute_result",
     "data": {
      "text/plain": [
       "array([[22., 28.],\n",
       "       [49., 64.]], dtype=float32)"
      ]
     },
     "metadata": {},
     "execution_count": 11
    }
   ],
   "source": [
    "# Matrix multiply (m_a * m_b) different from the previous ones\n",
    "m_ab = tf.matmul(m_a, m_b)\n",
    "print(m_ab)\n",
    "\n",
    "# Convert to numpy\n",
    "m_ab.numpy()"
   ]
  },
  {
   "cell_type": "code",
   "execution_count": 10,
   "metadata": {},
   "outputs": [],
   "source": [
    "# Define the feature and the label\n",
    "model_data = np.array([-1.0, 0.0, 1.0, 2.0, 3.0, 4.0, 5.0, 6.0], dtype=float)\n",
    "model_value = np.array([-3.0, -1.0, 1.0, 3.0, 5.0, 7.0, 9.0, 11.0], dtype=float)"
   ]
  }
 ]
}